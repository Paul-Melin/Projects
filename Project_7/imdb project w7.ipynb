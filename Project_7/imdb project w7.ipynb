{
 "cells": [
  {
   "cell_type": "code",
   "execution_count": 1,
   "id": "5558efeb",
   "metadata": {},
   "outputs": [],
   "source": [
    "import numpy as np\n",
    "import pandas as pd"
   ]
  },
  {
   "cell_type": "code",
   "execution_count": 2,
   "id": "cd2558fc",
   "metadata": {},
   "outputs": [],
   "source": [
    "# Your code here:\n",
    "imdb = pd.read_csv(r'C:\\Users\\paul\\Documents\\Formation Data Analyst\\Bootcamp\\Module 3\\Project_week_7\\imdb_processed.csv')"
   ]
  },
  {
   "cell_type": "code",
   "execution_count": 4,
   "id": "fefb5d59",
   "metadata": {},
   "outputs": [
    {
     "data": {
      "text/plain": [
       "(8451, 14)"
      ]
     },
     "execution_count": 4,
     "metadata": {},
     "output_type": "execute_result"
    }
   ],
   "source": [
    "imdb.shape"
   ]
  },
  {
   "cell_type": "code",
   "execution_count": 6,
   "id": "789648fa",
   "metadata": {},
   "outputs": [
    {
     "name": "stdout",
     "output_type": "stream",
     "text": [
      "<class 'pandas.core.frame.DataFrame'>\n",
      "RangeIndex: 8451 entries, 0 to 8450\n",
      "Data columns (total 14 columns):\n",
      " #   Column      Non-Null Count  Dtype  \n",
      "---  ------      --------------  -----  \n",
      " 0   Unnamed: 0  8451 non-null   int64  \n",
      " 1   title       8451 non-null   object \n",
      " 2   year        8451 non-null   float64\n",
      " 3   kind        8451 non-null   object \n",
      " 4   genre       8384 non-null   object \n",
      " 5   rating      8135 non-null   float64\n",
      " 6   vote        8135 non-null   float64\n",
      " 7   country     8152 non-null   object \n",
      " 8   language    8052 non-null   object \n",
      " 9   cast        8280 non-null   object \n",
      " 10  director    7140 non-null   object \n",
      " 11  composer    5722 non-null   object \n",
      " 12  writer      7204 non-null   object \n",
      " 13  runtime     6798 non-null   float64\n",
      "dtypes: float64(4), int64(1), object(9)\n",
      "memory usage: 924.5+ KB\n"
     ]
    }
   ],
   "source": [
    "imdb.info()"
   ]
  },
  {
   "cell_type": "code",
   "execution_count": 7,
   "id": "f635fcec",
   "metadata": {},
   "outputs": [
    {
     "data": {
      "text/plain": [
       "Unnamed: 0       0\n",
       "title            0\n",
       "year             0\n",
       "kind             0\n",
       "genre           67\n",
       "rating         316\n",
       "vote           316\n",
       "country        299\n",
       "language       399\n",
       "cast           171\n",
       "director      1311\n",
       "composer      2729\n",
       "writer        1247\n",
       "runtime       1653\n",
       "dtype: int64"
      ]
     },
     "execution_count": 7,
     "metadata": {},
     "output_type": "execute_result"
    }
   ],
   "source": [
    "imdb.isna().sum()"
   ]
  },
  {
   "cell_type": "code",
   "execution_count": 8,
   "id": "dc87cb70",
   "metadata": {},
   "outputs": [
    {
     "data": {
      "text/html": [
       "<div>\n",
       "<style scoped>\n",
       "    .dataframe tbody tr th:only-of-type {\n",
       "        vertical-align: middle;\n",
       "    }\n",
       "\n",
       "    .dataframe tbody tr th {\n",
       "        vertical-align: top;\n",
       "    }\n",
       "\n",
       "    .dataframe thead th {\n",
       "        text-align: right;\n",
       "    }\n",
       "</style>\n",
       "<table border=\"1\" class=\"dataframe\">\n",
       "  <thead>\n",
       "    <tr style=\"text-align: right;\">\n",
       "      <th></th>\n",
       "      <th>Unnamed: 0</th>\n",
       "      <th>year</th>\n",
       "      <th>rating</th>\n",
       "      <th>vote</th>\n",
       "      <th>runtime</th>\n",
       "    </tr>\n",
       "  </thead>\n",
       "  <tbody>\n",
       "    <tr>\n",
       "      <th>count</th>\n",
       "      <td>8451.000000</td>\n",
       "      <td>8451.000000</td>\n",
       "      <td>8135.000000</td>\n",
       "      <td>8.135000e+03</td>\n",
       "      <td>6798.000000</td>\n",
       "    </tr>\n",
       "    <tr>\n",
       "      <th>mean</th>\n",
       "      <td>4225.000000</td>\n",
       "      <td>1991.626080</td>\n",
       "      <td>6.680000</td>\n",
       "      <td>1.873295e+04</td>\n",
       "      <td>99.984113</td>\n",
       "    </tr>\n",
       "    <tr>\n",
       "      <th>std</th>\n",
       "      <td>2439.737896</td>\n",
       "      <td>15.129001</td>\n",
       "      <td>1.281778</td>\n",
       "      <td>8.957999e+04</td>\n",
       "      <td>65.277725</td>\n",
       "    </tr>\n",
       "    <tr>\n",
       "      <th>min</th>\n",
       "      <td>0.000000</td>\n",
       "      <td>1905.000000</td>\n",
       "      <td>1.500000</td>\n",
       "      <td>5.000000e+00</td>\n",
       "      <td>2.000000</td>\n",
       "    </tr>\n",
       "    <tr>\n",
       "      <th>25%</th>\n",
       "      <td>2112.500000</td>\n",
       "      <td>1987.000000</td>\n",
       "      <td>6.000000</td>\n",
       "      <td>3.075000e+02</td>\n",
       "      <td>82.000000</td>\n",
       "    </tr>\n",
       "    <tr>\n",
       "      <th>50%</th>\n",
       "      <td>4225.000000</td>\n",
       "      <td>1998.000000</td>\n",
       "      <td>6.900000</td>\n",
       "      <td>1.531000e+03</td>\n",
       "      <td>95.000000</td>\n",
       "    </tr>\n",
       "    <tr>\n",
       "      <th>75%</th>\n",
       "      <td>6337.500000</td>\n",
       "      <td>2002.000000</td>\n",
       "      <td>7.600000</td>\n",
       "      <td>6.897500e+03</td>\n",
       "      <td>110.000000</td>\n",
       "    </tr>\n",
       "    <tr>\n",
       "      <th>max</th>\n",
       "      <td>8450.000000</td>\n",
       "      <td>2005.000000</td>\n",
       "      <td>9.600000</td>\n",
       "      <td>2.462087e+06</td>\n",
       "      <td>1620.000000</td>\n",
       "    </tr>\n",
       "  </tbody>\n",
       "</table>\n",
       "</div>"
      ],
      "text/plain": [
       "        Unnamed: 0         year       rating          vote      runtime\n",
       "count  8451.000000  8451.000000  8135.000000  8.135000e+03  6798.000000\n",
       "mean   4225.000000  1991.626080     6.680000  1.873295e+04    99.984113\n",
       "std    2439.737896    15.129001     1.281778  8.957999e+04    65.277725\n",
       "min       0.000000  1905.000000     1.500000  5.000000e+00     2.000000\n",
       "25%    2112.500000  1987.000000     6.000000  3.075000e+02    82.000000\n",
       "50%    4225.000000  1998.000000     6.900000  1.531000e+03    95.000000\n",
       "75%    6337.500000  2002.000000     7.600000  6.897500e+03   110.000000\n",
       "max    8450.000000  2005.000000     9.600000  2.462087e+06  1620.000000"
      ]
     },
     "execution_count": 8,
     "metadata": {},
     "output_type": "execute_result"
    }
   ],
   "source": [
    "imdb.describe()"
   ]
  },
  {
   "cell_type": "code",
   "execution_count": 9,
   "id": "a15621cf",
   "metadata": {},
   "outputs": [
    {
     "name": "stdout",
     "output_type": "stream",
     "text": [
      "percentage of missing value for column Runtime 19.559815406460775\n"
     ]
    }
   ],
   "source": [
    "imdb[\"runtime\"].isna().sum()/len(imdb['runtime'])*100\n",
    "print('percentage of missing value for column Runtime',imdb[\"runtime\"].isna().sum()/len(imdb['runtime'])*100)\n",
    "# BECAUSE THERE ARE 20% MISSING WE DECIDED TO DROP RUNTIME COLUMN\n",
    "imdb = imdb.drop('runtime', 1)"
   ]
  },
  {
   "cell_type": "code",
   "execution_count": 10,
   "id": "1010b0e5",
   "metadata": {},
   "outputs": [
    {
     "name": "stdout",
     "output_type": "stream",
     "text": [
      "percentage of missing value for column Composer 32.292036445391076\n"
     ]
    }
   ],
   "source": [
    "imdb[\"composer\"].isna().sum()/len(imdb['composer'])*100\n",
    "print('percentage of missing value for column Composer',imdb[\"composer\"].isna().sum()/len(imdb['composer'])*100)\n",
    "# BECAUSE THERE ARE 32% MISSING WE DECIDED TO DROP COMPOSER COLUMN\n",
    "imdb = imdb.drop('composer', 1)"
   ]
  },
  {
   "cell_type": "code",
   "execution_count": 11,
   "id": "948e0b91",
   "metadata": {},
   "outputs": [
    {
     "data": {
      "text/plain": [
       "3.7392024612471895"
      ]
     },
     "execution_count": 11,
     "metadata": {},
     "output_type": "execute_result"
    }
   ],
   "source": [
    "imdb[\"vote\"].isna().sum()/len(imdb['vote'])*100\n",
    "# DECIDE TO DROP THE EMPTY RUNS"
   ]
  },
  {
   "cell_type": "code",
   "execution_count": 12,
   "id": "58eff1af",
   "metadata": {},
   "outputs": [],
   "source": [
    "#DROP EMPTY RUNS FOR COLUMN VOTE \n",
    "imdb.dropna(subset=['vote'], inplace=True)"
   ]
  },
  {
   "cell_type": "code",
   "execution_count": 13,
   "id": "95030a2e",
   "metadata": {},
   "outputs": [
    {
     "data": {
      "text/plain": [
       "Unnamed: 0       0\n",
       "title            0\n",
       "year             0\n",
       "kind             0\n",
       "genre           46\n",
       "rating           0\n",
       "vote             0\n",
       "country        177\n",
       "language       283\n",
       "cast            89\n",
       "director      1135\n",
       "writer        1034\n",
       "dtype: int64"
      ]
     },
     "execution_count": 13,
     "metadata": {},
     "output_type": "execute_result"
    }
   ],
   "source": [
    "imdb.isna().sum()"
   ]
  },
  {
   "cell_type": "code",
   "execution_count": 14,
   "id": "6b514910",
   "metadata": {},
   "outputs": [],
   "source": [
    "# We decided drop writer column as there are missing values and usually the writer is less known \n",
    "imdb = imdb.drop('writer', 1)"
   ]
  },
  {
   "cell_type": "code",
   "execution_count": 15,
   "id": "708a7eaf",
   "metadata": {},
   "outputs": [],
   "source": [
    "#We are striping the strings from brackets\n",
    "imdb['genre'] = imdb['genre'].str.strip(\"[]\")\n",
    "#We are replacing ' by empty space\n",
    "imdb['genre'] = imdb['genre'].str.replace(\"'\",\"\")\n",
    "#We are creating a list at ','\n",
    "imdb['genre'] = imdb['genre'].str.split(',')\n",
    "#We are taking to first elemnts of the list\n",
    "imdb['genre'] = imdb['genre'].str[0]"
   ]
  },
  {
   "cell_type": "code",
   "execution_count": 16,
   "id": "09d65cbd",
   "metadata": {},
   "outputs": [],
   "source": [
    "#We are striping the strings from brackets\n",
    "imdb['country'] = imdb['country'].str.strip(\"[]\")\n",
    "#We are replacing ' by empty space\n",
    "imdb['country'] = imdb['country'].str.replace(\"'\",\"\")\n",
    "#We are creating a list at ','\n",
    "imdb['country'] = imdb['country'].str.split(',')\n",
    "#We are taking to first elemnts of the list\n",
    "imdb['country'] = imdb['country'].str[0]"
   ]
  },
  {
   "cell_type": "code",
   "execution_count": 17,
   "id": "82ae2a75",
   "metadata": {},
   "outputs": [],
   "source": [
    "#We are striping the strings from brackets\n",
    "imdb['language'] = imdb['language'].str.strip(\"[]\")\n",
    "#We are replacing ' by empty space\n",
    "imdb['language'] = imdb['language'].str.replace(\"'\",\"\")\n",
    "#We are creating a list at ','\n",
    "imdb['language'] = imdb['language'].str.split(',')\n",
    "#We are taking to first elemnts of the list\n",
    "imdb['language'] = imdb['language'].str[0]"
   ]
  },
  {
   "cell_type": "code",
   "execution_count": 18,
   "id": "53560d66",
   "metadata": {},
   "outputs": [],
   "source": [
    "#We are striping the strings from brackets\n",
    "imdb['cast'] = imdb['cast'].str.strip(\"[]\")\n",
    "#We are replacing ' by empty space\n",
    "imdb['cast'] = imdb['cast'].str.replace(\"'\",\"\")\n",
    "#We are creating a list at ','\n",
    "imdb['cast'] = imdb['cast'].str.split(',')\n",
    "#We are taking to first elemnts of the list\n",
    "imdb['cast'] = imdb['cast'].str[0]"
   ]
  },
  {
   "cell_type": "code",
   "execution_count": 19,
   "id": "aa3290f5",
   "metadata": {},
   "outputs": [],
   "source": [
    "#We are striping the strings from brackets\n",
    "imdb['director'] = imdb['director'].str.strip(\"[]\")\n",
    "#We are replacing ' by empty space\n",
    "imdb['director'] = imdb['director'].str.replace(\"'\",\"\")\n",
    "#We are creating a list at ','\n",
    "imdb['director'] = imdb['director'].str.split(',')\n",
    "#We are taking to first elemnts of the list\n",
    "imdb['director'] = imdb['director'].str[0]"
   ]
  },
  {
   "cell_type": "code",
   "execution_count": 20,
   "id": "c374b216",
   "metadata": {},
   "outputs": [
    {
     "data": {
      "text/html": [
       "<div>\n",
       "<style scoped>\n",
       "    .dataframe tbody tr th:only-of-type {\n",
       "        vertical-align: middle;\n",
       "    }\n",
       "\n",
       "    .dataframe tbody tr th {\n",
       "        vertical-align: top;\n",
       "    }\n",
       "\n",
       "    .dataframe thead th {\n",
       "        text-align: right;\n",
       "    }\n",
       "</style>\n",
       "<table border=\"1\" class=\"dataframe\">\n",
       "  <thead>\n",
       "    <tr style=\"text-align: right;\">\n",
       "      <th></th>\n",
       "      <th>Unnamed: 0</th>\n",
       "      <th>title</th>\n",
       "      <th>year</th>\n",
       "      <th>kind</th>\n",
       "      <th>genre</th>\n",
       "      <th>rating</th>\n",
       "      <th>vote</th>\n",
       "      <th>country</th>\n",
       "      <th>language</th>\n",
       "      <th>cast</th>\n",
       "      <th>director</th>\n",
       "    </tr>\n",
       "  </thead>\n",
       "  <tbody>\n",
       "    <tr>\n",
       "      <th>0</th>\n",
       "      <td>0</td>\n",
       "      <td>Dinosaur Planet</td>\n",
       "      <td>2003.0</td>\n",
       "      <td>tv mini series</td>\n",
       "      <td>Documentary</td>\n",
       "      <td>7.7</td>\n",
       "      <td>474.0</td>\n",
       "      <td>United States</td>\n",
       "      <td>English</td>\n",
       "      <td>Christian Slater</td>\n",
       "      <td>NaN</td>\n",
       "    </tr>\n",
       "    <tr>\n",
       "      <th>1</th>\n",
       "      <td>1</td>\n",
       "      <td>Get Up and Dance!</td>\n",
       "      <td>1994.0</td>\n",
       "      <td>video movie</td>\n",
       "      <td>Family</td>\n",
       "      <td>8.1</td>\n",
       "      <td>18.0</td>\n",
       "      <td>United States</td>\n",
       "      <td>English</td>\n",
       "      <td>Paula Abdul</td>\n",
       "      <td>Steve Purcell</td>\n",
       "    </tr>\n",
       "    <tr>\n",
       "      <th>2</th>\n",
       "      <td>2</td>\n",
       "      <td>8 Man</td>\n",
       "      <td>1992.0</td>\n",
       "      <td>movie</td>\n",
       "      <td>Action</td>\n",
       "      <td>5.5</td>\n",
       "      <td>93.0</td>\n",
       "      <td>Japan</td>\n",
       "      <td>Japanese</td>\n",
       "      <td>Kai Shishido</td>\n",
       "      <td>Yasuhiro Horiuchi</td>\n",
       "    </tr>\n",
       "    <tr>\n",
       "      <th>3</th>\n",
       "      <td>3</td>\n",
       "      <td>What the #$*! Do We (K)now!?</td>\n",
       "      <td>2004.0</td>\n",
       "      <td>movie</td>\n",
       "      <td>Documentary</td>\n",
       "      <td>5.3</td>\n",
       "      <td>13432.0</td>\n",
       "      <td>United States</td>\n",
       "      <td>English</td>\n",
       "      <td>Marlee Matlin</td>\n",
       "      <td>William Arntz</td>\n",
       "    </tr>\n",
       "    <tr>\n",
       "      <th>4</th>\n",
       "      <td>4</td>\n",
       "      <td>Class of Nuke 'Em High Part II: Subhumanoid Me...</td>\n",
       "      <td>1991.0</td>\n",
       "      <td>movie</td>\n",
       "      <td>Comedy</td>\n",
       "      <td>4.5</td>\n",
       "      <td>2177.0</td>\n",
       "      <td>United States</td>\n",
       "      <td>English</td>\n",
       "      <td>Brick Bronsky</td>\n",
       "      <td>Eric Louzil</td>\n",
       "    </tr>\n",
       "  </tbody>\n",
       "</table>\n",
       "</div>"
      ],
      "text/plain": [
       "   Unnamed: 0                                              title    year  \\\n",
       "0           0                                    Dinosaur Planet  2003.0   \n",
       "1           1                                  Get Up and Dance!  1994.0   \n",
       "2           2                                              8 Man  1992.0   \n",
       "3           3                       What the #$*! Do We (K)now!?  2004.0   \n",
       "4           4  Class of Nuke 'Em High Part II: Subhumanoid Me...  1991.0   \n",
       "\n",
       "             kind        genre  rating     vote        country  language  \\\n",
       "0  tv mini series  Documentary     7.7    474.0  United States   English   \n",
       "1     video movie       Family     8.1     18.0  United States   English   \n",
       "2           movie       Action     5.5     93.0          Japan  Japanese   \n",
       "3           movie  Documentary     5.3  13432.0  United States   English   \n",
       "4           movie       Comedy     4.5   2177.0  United States   English   \n",
       "\n",
       "               cast           director  \n",
       "0  Christian Slater                NaN  \n",
       "1       Paula Abdul      Steve Purcell  \n",
       "2      Kai Shishido  Yasuhiro Horiuchi  \n",
       "3     Marlee Matlin      William Arntz  \n",
       "4     Brick Bronsky        Eric Louzil  "
      ]
     },
     "execution_count": 20,
     "metadata": {},
     "output_type": "execute_result"
    }
   ],
   "source": [
    "imdb.head()"
   ]
  },
  {
   "cell_type": "code",
   "execution_count": 21,
   "id": "c9a72a52",
   "metadata": {},
   "outputs": [
    {
     "name": "stdout",
     "output_type": "stream",
     "text": [
      "<class 'pandas.core.frame.DataFrame'>\n",
      "Int64Index: 8135 entries, 0 to 8450\n",
      "Data columns (total 11 columns):\n",
      " #   Column      Non-Null Count  Dtype  \n",
      "---  ------      --------------  -----  \n",
      " 0   Unnamed: 0  8135 non-null   int64  \n",
      " 1   title       8135 non-null   object \n",
      " 2   year        8135 non-null   float64\n",
      " 3   kind        8135 non-null   object \n",
      " 4   genre       8089 non-null   object \n",
      " 5   rating      8135 non-null   float64\n",
      " 6   vote        8135 non-null   float64\n",
      " 7   country     7958 non-null   object \n",
      " 8   language    7852 non-null   object \n",
      " 9   cast        8046 non-null   object \n",
      " 10  director    7000 non-null   object \n",
      "dtypes: float64(3), int64(1), object(7)\n",
      "memory usage: 762.7+ KB\n"
     ]
    }
   ],
   "source": [
    "imdb.info()"
   ]
  },
  {
   "cell_type": "code",
   "execution_count": 22,
   "id": "b32252ce",
   "metadata": {},
   "outputs": [],
   "source": [
    "# REPLACING THE NaN VALUES BY NONE FOR THE DIRECTOR, GENRE, COUNTRY, LANGUAGE and CAST COLUMNS"
   ]
  },
  {
   "cell_type": "code",
   "execution_count": 23,
   "id": "206d7775",
   "metadata": {},
   "outputs": [],
   "source": [
    "imdb['director'] = imdb['director'].replace(np.nan, 'None')"
   ]
  },
  {
   "cell_type": "code",
   "execution_count": 24,
   "id": "4d1f4ed4",
   "metadata": {},
   "outputs": [],
   "source": [
    "imdb['genre'] = imdb['genre'].replace(np.nan, 'None')"
   ]
  },
  {
   "cell_type": "code",
   "execution_count": 25,
   "id": "c46b6a7d",
   "metadata": {},
   "outputs": [],
   "source": [
    "imdb['country'] = imdb['country'].replace(np.nan, 'None')"
   ]
  },
  {
   "cell_type": "code",
   "execution_count": 26,
   "id": "bafa276d",
   "metadata": {},
   "outputs": [],
   "source": [
    "imdb['language'] = imdb['language'].replace(np.nan, 'None')"
   ]
  },
  {
   "cell_type": "code",
   "execution_count": 27,
   "id": "d2194f12",
   "metadata": {},
   "outputs": [],
   "source": [
    "imdb['cast'] = imdb['cast'].replace(np.nan, 'None')"
   ]
  },
  {
   "cell_type": "code",
   "execution_count": 28,
   "id": "f0baba74",
   "metadata": {},
   "outputs": [
    {
     "data": {
      "text/html": [
       "<div>\n",
       "<style scoped>\n",
       "    .dataframe tbody tr th:only-of-type {\n",
       "        vertical-align: middle;\n",
       "    }\n",
       "\n",
       "    .dataframe tbody tr th {\n",
       "        vertical-align: top;\n",
       "    }\n",
       "\n",
       "    .dataframe thead th {\n",
       "        text-align: right;\n",
       "    }\n",
       "</style>\n",
       "<table border=\"1\" class=\"dataframe\">\n",
       "  <thead>\n",
       "    <tr style=\"text-align: right;\">\n",
       "      <th></th>\n",
       "      <th>Unnamed: 0</th>\n",
       "      <th>title</th>\n",
       "      <th>year</th>\n",
       "      <th>kind</th>\n",
       "      <th>genre</th>\n",
       "      <th>rating</th>\n",
       "      <th>vote</th>\n",
       "      <th>country</th>\n",
       "      <th>language</th>\n",
       "      <th>cast</th>\n",
       "      <th>director</th>\n",
       "    </tr>\n",
       "  </thead>\n",
       "  <tbody>\n",
       "    <tr>\n",
       "      <th>0</th>\n",
       "      <td>0</td>\n",
       "      <td>Dinosaur Planet</td>\n",
       "      <td>2003.0</td>\n",
       "      <td>tv mini series</td>\n",
       "      <td>Documentary</td>\n",
       "      <td>7.7</td>\n",
       "      <td>474.0</td>\n",
       "      <td>United States</td>\n",
       "      <td>English</td>\n",
       "      <td>Christian Slater</td>\n",
       "      <td>None</td>\n",
       "    </tr>\n",
       "    <tr>\n",
       "      <th>1</th>\n",
       "      <td>1</td>\n",
       "      <td>Get Up and Dance!</td>\n",
       "      <td>1994.0</td>\n",
       "      <td>video movie</td>\n",
       "      <td>Family</td>\n",
       "      <td>8.1</td>\n",
       "      <td>18.0</td>\n",
       "      <td>United States</td>\n",
       "      <td>English</td>\n",
       "      <td>Paula Abdul</td>\n",
       "      <td>Steve Purcell</td>\n",
       "    </tr>\n",
       "    <tr>\n",
       "      <th>2</th>\n",
       "      <td>2</td>\n",
       "      <td>8 Man</td>\n",
       "      <td>1992.0</td>\n",
       "      <td>movie</td>\n",
       "      <td>Action</td>\n",
       "      <td>5.5</td>\n",
       "      <td>93.0</td>\n",
       "      <td>Japan</td>\n",
       "      <td>Japanese</td>\n",
       "      <td>Kai Shishido</td>\n",
       "      <td>Yasuhiro Horiuchi</td>\n",
       "    </tr>\n",
       "    <tr>\n",
       "      <th>3</th>\n",
       "      <td>3</td>\n",
       "      <td>What the #$*! Do We (K)now!?</td>\n",
       "      <td>2004.0</td>\n",
       "      <td>movie</td>\n",
       "      <td>Documentary</td>\n",
       "      <td>5.3</td>\n",
       "      <td>13432.0</td>\n",
       "      <td>United States</td>\n",
       "      <td>English</td>\n",
       "      <td>Marlee Matlin</td>\n",
       "      <td>William Arntz</td>\n",
       "    </tr>\n",
       "    <tr>\n",
       "      <th>4</th>\n",
       "      <td>4</td>\n",
       "      <td>Class of Nuke 'Em High Part II: Subhumanoid Me...</td>\n",
       "      <td>1991.0</td>\n",
       "      <td>movie</td>\n",
       "      <td>Comedy</td>\n",
       "      <td>4.5</td>\n",
       "      <td>2177.0</td>\n",
       "      <td>United States</td>\n",
       "      <td>English</td>\n",
       "      <td>Brick Bronsky</td>\n",
       "      <td>Eric Louzil</td>\n",
       "    </tr>\n",
       "  </tbody>\n",
       "</table>\n",
       "</div>"
      ],
      "text/plain": [
       "   Unnamed: 0                                              title    year  \\\n",
       "0           0                                    Dinosaur Planet  2003.0   \n",
       "1           1                                  Get Up and Dance!  1994.0   \n",
       "2           2                                              8 Man  1992.0   \n",
       "3           3                       What the #$*! Do We (K)now!?  2004.0   \n",
       "4           4  Class of Nuke 'Em High Part II: Subhumanoid Me...  1991.0   \n",
       "\n",
       "             kind        genre  rating     vote        country  language  \\\n",
       "0  tv mini series  Documentary     7.7    474.0  United States   English   \n",
       "1     video movie       Family     8.1     18.0  United States   English   \n",
       "2           movie       Action     5.5     93.0          Japan  Japanese   \n",
       "3           movie  Documentary     5.3  13432.0  United States   English   \n",
       "4           movie       Comedy     4.5   2177.0  United States   English   \n",
       "\n",
       "               cast           director  \n",
       "0  Christian Slater               None  \n",
       "1       Paula Abdul      Steve Purcell  \n",
       "2      Kai Shishido  Yasuhiro Horiuchi  \n",
       "3     Marlee Matlin      William Arntz  \n",
       "4     Brick Bronsky        Eric Louzil  "
      ]
     },
     "execution_count": 28,
     "metadata": {},
     "output_type": "execute_result"
    }
   ],
   "source": [
    "imdb.head()"
   ]
  },
  {
   "cell_type": "code",
   "execution_count": 29,
   "id": "a1fad2c8",
   "metadata": {},
   "outputs": [
    {
     "data": {
      "text/plain": [
       "Unnamed: 0    0\n",
       "title         0\n",
       "year          0\n",
       "kind          0\n",
       "genre         0\n",
       "rating        0\n",
       "vote          0\n",
       "country       0\n",
       "language      0\n",
       "cast          0\n",
       "director      0\n",
       "dtype: int64"
      ]
     },
     "execution_count": 29,
     "metadata": {},
     "output_type": "execute_result"
    }
   ],
   "source": [
    "imdb.isna().sum()"
   ]
  },
  {
   "cell_type": "code",
   "execution_count": 30,
   "id": "301b151e",
   "metadata": {},
   "outputs": [],
   "source": [
    "# DROPPING THE Unnamed: 0 COLUMN\n",
    "imdb = imdb.drop('Unnamed: 0', 1)"
   ]
  },
  {
   "cell_type": "code",
   "execution_count": 31,
   "id": "9c3403cb",
   "metadata": {},
   "outputs": [],
   "source": [
    "top10=pd.pivot_table(data=imdb, index=imdb['country'], aggfunc='count').sort_values('kind',ascending=False).head(10)\n",
    "top10.reset_index(inplace=True)\n",
    "list_top10=top10.country.to_list()\n",
    "imdb['country']=np.where(imdb['country'].isin(list_top10),imdb['country'],\"other\")"
   ]
  },
  {
   "cell_type": "code",
   "execution_count": 32,
   "id": "c2c4b4f7",
   "metadata": {},
   "outputs": [],
   "source": [
    "# DROPPING THE Unnamed: 0 COLUMN\n",
    "imdb = imdb.drop('title', 1)"
   ]
  },
  {
   "cell_type": "code",
   "execution_count": 33,
   "id": "f222deeb",
   "metadata": {},
   "outputs": [],
   "source": [
    "imdb['year']= imdb['year'].astype(str)"
   ]
  },
  {
   "cell_type": "code",
   "execution_count": 34,
   "id": "9728dfcc",
   "metadata": {},
   "outputs": [
    {
     "name": "stdout",
     "output_type": "stream",
     "text": [
      "<class 'pandas.core.frame.DataFrame'>\n",
      "Int64Index: 8135 entries, 0 to 8450\n",
      "Data columns (total 9 columns):\n",
      " #   Column    Non-Null Count  Dtype  \n",
      "---  ------    --------------  -----  \n",
      " 0   year      8135 non-null   object \n",
      " 1   kind      8135 non-null   object \n",
      " 2   genre     8135 non-null   object \n",
      " 3   rating    8135 non-null   float64\n",
      " 4   vote      8135 non-null   float64\n",
      " 5   country   8135 non-null   object \n",
      " 6   language  8135 non-null   object \n",
      " 7   cast      8135 non-null   object \n",
      " 8   director  8135 non-null   object \n",
      "dtypes: float64(2), object(7)\n",
      "memory usage: 635.5+ KB\n"
     ]
    }
   ],
   "source": [
    "imdb.info()"
   ]
  },
  {
   "cell_type": "code",
   "execution_count": 35,
   "id": "9b50808c",
   "metadata": {},
   "outputs": [],
   "source": [
    "imdb['rating']=round(imdb['rating']).astype(int)"
   ]
  },
  {
   "cell_type": "code",
   "execution_count": 43,
   "id": "cf2a7144",
   "metadata": {},
   "outputs": [
    {
     "ename": "NameError",
     "evalue": "name 'LabelEncoder' is not defined",
     "output_type": "error",
     "traceback": [
      "\u001b[1;31m---------------------------------------------------------------------------\u001b[0m",
      "\u001b[1;31mNameError\u001b[0m                                 Traceback (most recent call last)",
      "\u001b[1;32m<ipython-input-43-a5f5785519a2>\u001b[0m in \u001b[0;36m<module>\u001b[1;34m\u001b[0m\n\u001b[0;32m      1\u001b[0m \u001b[0mcols\u001b[0m \u001b[1;33m=\u001b[0m \u001b[1;33m[\u001b[0m\u001b[1;34m'year'\u001b[0m\u001b[1;33m,\u001b[0m \u001b[1;34m'kind'\u001b[0m\u001b[1;33m,\u001b[0m \u001b[1;34m'genre'\u001b[0m\u001b[1;33m,\u001b[0m \u001b[1;34m'country'\u001b[0m\u001b[1;33m,\u001b[0m \u001b[1;34m'language'\u001b[0m\u001b[1;33m,\u001b[0m \u001b[1;34m'cast'\u001b[0m\u001b[1;33m,\u001b[0m \u001b[1;34m'director'\u001b[0m\u001b[1;33m]\u001b[0m\u001b[1;33m\u001b[0m\u001b[1;33m\u001b[0m\u001b[0m\n\u001b[0;32m      2\u001b[0m \u001b[1;32mfrom\u001b[0m \u001b[0msklearn\u001b[0m \u001b[1;32mimport\u001b[0m \u001b[0mpreprocessing\u001b[0m\u001b[1;33m\u001b[0m\u001b[1;33m\u001b[0m\u001b[0m\n\u001b[1;32m----> 3\u001b[1;33m \u001b[0mimdb_encoded\u001b[0m \u001b[1;33m=\u001b[0m \u001b[0mimdb\u001b[0m\u001b[1;33m[\u001b[0m\u001b[0mcols\u001b[0m\u001b[1;33m]\u001b[0m\u001b[1;33m.\u001b[0m\u001b[0mapply\u001b[0m\u001b[1;33m(\u001b[0m\u001b[0mLabelEncoder\u001b[0m\u001b[1;33m(\u001b[0m\u001b[1;33m)\u001b[0m\u001b[1;33m.\u001b[0m\u001b[0mfit_transform\u001b[0m\u001b[1;33m)\u001b[0m\u001b[1;33m\u001b[0m\u001b[1;33m\u001b[0m\u001b[0m\n\u001b[0m",
      "\u001b[1;31mNameError\u001b[0m: name 'LabelEncoder' is not defined"
     ]
    }
   ],
   "source": [
    "cols = ['year', 'kind', 'genre', 'country', 'language', 'cast', 'director']\n",
    "from sklearn import preprocessing\n",
    "imdb_encoded = imdb[cols].apply(LabelEncoder().fit_transform)"
   ]
  },
  {
   "cell_type": "code",
   "execution_count": null,
   "id": "bf672cb9",
   "metadata": {},
   "outputs": [],
   "source": [
    "imdb.head(10)"
   ]
  },
  {
   "cell_type": "code",
   "execution_count": null,
   "id": "9273be68",
   "metadata": {},
   "outputs": [],
   "source": [
    "imdb.director.nunique()"
   ]
  },
  {
   "cell_type": "code",
   "execution_count": null,
   "id": "9030f674",
   "metadata": {},
   "outputs": [],
   "source": [
    "imdb.cast.nunique()"
   ]
  },
  {
   "cell_type": "code",
   "execution_count": null,
   "id": "74b2fec1",
   "metadata": {},
   "outputs": [],
   "source": [
    "imdb.to_csv(r'C:\\Users\\ouykh\\Documents\\Ironhack\\projects\\week 7\\imdb.csv')"
   ]
  },
  {
   "cell_type": "code",
   "execution_count": null,
   "id": "d6004b0d",
   "metadata": {},
   "outputs": [],
   "source": []
  }
 ],
 "metadata": {
  "kernelspec": {
   "display_name": "Python 3",
   "language": "python",
   "name": "python3"
  },
  "language_info": {
   "codemirror_mode": {
    "name": "ipython",
    "version": 3
   },
   "file_extension": ".py",
   "mimetype": "text/x-python",
   "name": "python",
   "nbconvert_exporter": "python",
   "pygments_lexer": "ipython3",
   "version": "3.8.8"
  }
 },
 "nbformat": 4,
 "nbformat_minor": 5
}
